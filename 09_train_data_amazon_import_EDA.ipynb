{
 "cells": [
  {
   "cell_type": "markdown",
   "metadata": {},
   "source": [
    "# Imports and reading in amazon review data"
   ]
  },
  {
   "cell_type": "code",
   "execution_count": 24,
   "metadata": {
    "ExecuteTime": {
     "end_time": "2020-03-03T14:16:17.654704Z",
     "start_time": "2020-03-03T14:16:17.071955Z"
    }
   },
   "outputs": [],
   "source": [
    "import pandas as pd\n",
    "import numpy as np\n",
    "import matplotlib.pyplot as plt\n",
    "import seaborn as sns\n",
    "from sklearn.feature_extraction.text import CountVectorizer, TfidfTransformer, TfidfVectorizer\n",
    "from vaderSentiment.vaderSentiment import SentimentIntensityAnalyzer\n",
    "\n",
    "%matplotlib inline"
   ]
  },
  {
   "cell_type": "code",
   "execution_count": 2,
   "metadata": {
    "ExecuteTime": {
     "end_time": "2020-03-03T14:08:53.228973Z",
     "start_time": "2020-03-03T14:08:53.220396Z"
    }
   },
   "outputs": [],
   "source": [
    "pd.set_option('display.max_colwidth', -1)"
   ]
  },
  {
   "cell_type": "code",
   "execution_count": 3,
   "metadata": {
    "ExecuteTime": {
     "end_time": "2020-03-03T14:08:53.239230Z",
     "start_time": "2020-03-03T14:08:53.233444Z"
    }
   },
   "outputs": [],
   "source": [
    "# pd.set_option('display.max_columns', None)"
   ]
  },
  {
   "cell_type": "code",
   "execution_count": 4,
   "metadata": {
    "ExecuteTime": {
     "end_time": "2020-03-03T14:09:28.901208Z",
     "start_time": "2020-03-03T14:08:53.820727Z"
    }
   },
   "outputs": [],
   "source": [
    "amazon = pd.read_csv('./datasets/training_data/amazon_reviews/train.csv', header=0, names=['sentiment', 'title', 'review'])"
   ]
  },
  {
   "cell_type": "markdown",
   "metadata": {},
   "source": [
    "# EDA"
   ]
  },
  {
   "cell_type": "code",
   "execution_count": 5,
   "metadata": {
    "ExecuteTime": {
     "end_time": "2020-03-03T14:10:25.813763Z",
     "start_time": "2020-03-03T14:10:25.694848Z"
    }
   },
   "outputs": [
    {
     "data": {
      "text/html": [
       "<div>\n",
       "<style scoped>\n",
       "    .dataframe tbody tr th:only-of-type {\n",
       "        vertical-align: middle;\n",
       "    }\n",
       "\n",
       "    .dataframe tbody tr th {\n",
       "        vertical-align: top;\n",
       "    }\n",
       "\n",
       "    .dataframe thead th {\n",
       "        text-align: right;\n",
       "    }\n",
       "</style>\n",
       "<table border=\"1\" class=\"dataframe\">\n",
       "  <thead>\n",
       "    <tr style=\"text-align: right;\">\n",
       "      <th></th>\n",
       "      <th>sentiment</th>\n",
       "      <th>title</th>\n",
       "      <th>review</th>\n",
       "    </tr>\n",
       "  </thead>\n",
       "  <tbody>\n",
       "    <tr>\n",
       "      <th>0</th>\n",
       "      <td>5</td>\n",
       "      <td>Inspiring</td>\n",
       "      <td>I hope a lot of people hear this cd. We need more strong and positive vibes like this. Great vocals, fresh tunes, cross-cultural happiness. Her blues is from the gut. The pop sounds are catchy and mature.</td>\n",
       "    </tr>\n",
       "    <tr>\n",
       "      <th>1</th>\n",
       "      <td>5</td>\n",
       "      <td>The best soundtrack ever to anything.</td>\n",
       "      <td>I'm reading a lot of reviews saying that this is the best 'game soundtrack' and I figured that I'd write a review to disagree a bit. This in my opinino is Yasunori Mitsuda's ultimate masterpiece. The music is timeless and I'm been listening to it for years now and its beauty simply refuses to fade.The price tag on this is pretty staggering I must say, but if you are going to buy any cd for this much money, this is the only one that I feel would be worth every penny.</td>\n",
       "    </tr>\n",
       "  </tbody>\n",
       "</table>\n",
       "</div>"
      ],
      "text/plain": [
       "   sentiment                                  title  \\\n",
       "0  5          Inspiring                               \n",
       "1  5          The best soundtrack ever to anything.   \n",
       "\n",
       "                                                                                                                                                                                                                                                                                                                                                                                                                                                                                   review  \n",
       "0  I hope a lot of people hear this cd. We need more strong and positive vibes like this. Great vocals, fresh tunes, cross-cultural happiness. Her blues is from the gut. The pop sounds are catchy and mature.                                                                                                                                                                                                                                                                            \n",
       "1  I'm reading a lot of reviews saying that this is the best 'game soundtrack' and I figured that I'd write a review to disagree a bit. This in my opinino is Yasunori Mitsuda's ultimate masterpiece. The music is timeless and I'm been listening to it for years now and its beauty simply refuses to fade.The price tag on this is pretty staggering I must say, but if you are going to buy any cd for this much money, this is the only one that I feel would be worth every penny.  "
      ]
     },
     "execution_count": 5,
     "metadata": {},
     "output_type": "execute_result"
    }
   ],
   "source": [
    "amazon.head(2)"
   ]
  },
  {
   "cell_type": "markdown",
   "metadata": {},
   "source": [
    "## No nulls"
   ]
  },
  {
   "cell_type": "code",
   "execution_count": 6,
   "metadata": {
    "ExecuteTime": {
     "end_time": "2020-03-03T14:10:35.932547Z",
     "start_time": "2020-03-03T14:10:35.908700Z"
    }
   },
   "outputs": [
    {
     "name": "stdout",
     "output_type": "stream",
     "text": [
      "<class 'pandas.core.frame.DataFrame'>\n",
      "RangeIndex: 2999999 entries, 0 to 2999998\n",
      "Data columns (total 3 columns):\n",
      "sentiment    int64\n",
      "title        object\n",
      "review       object\n",
      "dtypes: int64(1), object(2)\n",
      "memory usage: 68.7+ MB\n"
     ]
    }
   ],
   "source": [
    "amazon.info()"
   ]
  },
  {
   "cell_type": "markdown",
   "metadata": {},
   "source": [
    "## Balanced classes by pos/neg sentiment"
   ]
  },
  {
   "cell_type": "code",
   "execution_count": 7,
   "metadata": {
    "ExecuteTime": {
     "end_time": "2020-03-03T14:10:36.455559Z",
     "start_time": "2020-03-03T14:10:36.364018Z"
    }
   },
   "outputs": [
    {
     "data": {
      "text/plain": [
       "5    600000\n",
       "4    600000\n",
       "2    600000\n",
       "1    600000\n",
       "3    599999\n",
       "Name: sentiment, dtype: int64"
      ]
     },
     "execution_count": 7,
     "metadata": {},
     "output_type": "execute_result"
    }
   ],
   "source": [
    "amazon.sentiment.value_counts()"
   ]
  },
  {
   "cell_type": "code",
   "execution_count": 8,
   "metadata": {
    "ExecuteTime": {
     "end_time": "2020-03-03T14:11:44.664837Z",
     "start_time": "2020-03-03T14:10:36.549308Z"
    }
   },
   "outputs": [],
   "source": [
    "soap = amazon[amazon.review.str.contains('soap', case=False)]"
   ]
  },
  {
   "cell_type": "code",
   "execution_count": 9,
   "metadata": {
    "ExecuteTime": {
     "end_time": "2020-03-03T14:11:44.826421Z",
     "start_time": "2020-03-03T14:11:44.669329Z"
    }
   },
   "outputs": [],
   "source": [
    "soap = soap[~soap.review.str.contains('opera', case=False)]"
   ]
  },
  {
   "cell_type": "code",
   "execution_count": 10,
   "metadata": {
    "ExecuteTime": {
     "end_time": "2020-03-03T14:11:44.953777Z",
     "start_time": "2020-03-03T14:11:44.832908Z"
    }
   },
   "outputs": [],
   "source": [
    "soap = soap[~soap.review.str.contains('operish', case=False)]"
   ]
  },
  {
   "cell_type": "code",
   "execution_count": 11,
   "metadata": {
    "ExecuteTime": {
     "end_time": "2020-03-03T14:11:45.121039Z",
     "start_time": "2020-03-03T14:11:44.958887Z"
    }
   },
   "outputs": [],
   "source": [
    "soap = soap[~soap.review.str.contains('soapbox', case=False)]"
   ]
  },
  {
   "cell_type": "code",
   "execution_count": 12,
   "metadata": {
    "ExecuteTime": {
     "end_time": "2020-03-03T14:11:45.422574Z",
     "start_time": "2020-03-03T14:11:45.124959Z"
    }
   },
   "outputs": [],
   "source": [
    "soap = soap[~soap.review.str.contains('soap box', case=False)]"
   ]
  },
  {
   "cell_type": "markdown",
   "metadata": {},
   "source": [
    "## .09% of the data contains the word soap without opera or soapbox or operish~ 5100 rows"
   ]
  },
  {
   "cell_type": "code",
   "execution_count": 13,
   "metadata": {
    "ExecuteTime": {
     "end_time": "2020-03-03T14:11:45.463647Z",
     "start_time": "2020-03-03T14:11:45.429878Z"
    }
   },
   "outputs": [
    {
     "data": {
      "text/html": [
       "<div>\n",
       "<style scoped>\n",
       "    .dataframe tbody tr th:only-of-type {\n",
       "        vertical-align: middle;\n",
       "    }\n",
       "\n",
       "    .dataframe tbody tr th {\n",
       "        vertical-align: top;\n",
       "    }\n",
       "\n",
       "    .dataframe thead th {\n",
       "        text-align: right;\n",
       "    }\n",
       "</style>\n",
       "<table border=\"1\" class=\"dataframe\">\n",
       "  <thead>\n",
       "    <tr style=\"text-align: right;\">\n",
       "      <th></th>\n",
       "      <th>sentiment</th>\n",
       "      <th>title</th>\n",
       "      <th>review</th>\n",
       "    </tr>\n",
       "  </thead>\n",
       "  <tbody>\n",
       "    <tr>\n",
       "      <th>715</th>\n",
       "      <td>5</td>\n",
       "      <td>Best Tale of Scandal and Deceptjon</td>\n",
       "      <td>I was required to read this book for English class, and it's my favorite book we've read all year :) full of juicy drama, scandal, and humor, the book is more like an entertaining Spanish soap than a boring classic novel some find it to be. If you look at the boon with the right eyes, you can enjoy it :))</td>\n",
       "    </tr>\n",
       "    <tr>\n",
       "      <th>2919</th>\n",
       "      <td>2</td>\n",
       "      <td>Worse than Stevia.</td>\n",
       "      <td>Mild sweeetness - though ultimately tastes like soap - or something reminiscent of soap.</td>\n",
       "    </tr>\n",
       "    <tr>\n",
       "      <th>3959</th>\n",
       "      <td>2</td>\n",
       "      <td>Greasy Grapefruit!</td>\n",
       "      <td>A sugar and oil mix with an explosive citrus fragrance. Yes, your skin will feel softer, but it's not worth it. I had to wash it off with soap and water, then clean the tub before I got out so I wouldn't fall. Take a shower and spray yourself with oil spray - it's not messy or stinky, and certainly not as slippery!</td>\n",
       "    </tr>\n",
       "    <tr>\n",
       "      <th>4161</th>\n",
       "      <td>5</td>\n",
       "      <td>LOVED THEM</td>\n",
       "      <td>All of us girls loved the card holders. It did have an odor, but I sprayed them with Fabreeze and let them dry, then washed with soap and water and let them dry again. After that all was fine. We find that we even use them when we have 3 cards left. You can set it on the table and it leaves your hands free for important things--like snacks!</td>\n",
       "    </tr>\n",
       "    <tr>\n",
       "      <th>7460</th>\n",
       "      <td>2</td>\n",
       "      <td>Adds very little to the online docu</td>\n",
       "      <td>This book adds very little to the online documentation provided by the tomcat team and seems to be published in a hurry just to be the first tomcat book in place. E.g. on p.103 at the end of chapter 5 you can read: \"In the next chapter, we cover securing a Web application using the Secure Sockets Layer (SSL).\" Well, there is no such chapter in the whole book. The same at the end of chapter 12, where Goodwill promises a Chapter on integrating the XML Apache Soap project into Tomcat. Again, no such Chapter.Covering the basics, the book does a good job, but as said, the provided ducumentation does it as well.</td>\n",
       "    </tr>\n",
       "  </tbody>\n",
       "</table>\n",
       "</div>"
      ],
      "text/plain": [
       "      sentiment                                title  \\\n",
       "715   5          Best Tale of Scandal and Deceptjon    \n",
       "2919  2          Worse than Stevia.                    \n",
       "3959  2          Greasy Grapefruit!                    \n",
       "4161  5          LOVED THEM                            \n",
       "7460  2          Adds very little to the online docu   \n",
       "\n",
       "                                                                                                                                                                                                                                                                                                                                                                                                                                                                                                                                                                                                                                     review  \n",
       "715   I was required to read this book for English class, and it's my favorite book we've read all year :) full of juicy drama, scandal, and humor, the book is more like an entertaining Spanish soap than a boring classic novel some find it to be. If you look at the boon with the right eyes, you can enjoy it :))                                                                                                                                                                                                                                                                                                                     \n",
       "2919  Mild sweeetness - though ultimately tastes like soap - or something reminiscent of soap.                                                                                                                                                                                                                                                                                                                                                                                                                                                                                                                                               \n",
       "3959  A sugar and oil mix with an explosive citrus fragrance. Yes, your skin will feel softer, but it's not worth it. I had to wash it off with soap and water, then clean the tub before I got out so I wouldn't fall. Take a shower and spray yourself with oil spray - it's not messy or stinky, and certainly not as slippery!                                                                                                                                                                                                                                                                                                           \n",
       "4161  All of us girls loved the card holders. It did have an odor, but I sprayed them with Fabreeze and let them dry, then washed with soap and water and let them dry again. After that all was fine. We find that we even use them when we have 3 cards left. You can set it on the table and it leaves your hands free for important things--like snacks!                                                                                                                                                                                                                                                                                 \n",
       "7460  This book adds very little to the online documentation provided by the tomcat team and seems to be published in a hurry just to be the first tomcat book in place. E.g. on p.103 at the end of chapter 5 you can read: \"In the next chapter, we cover securing a Web application using the Secure Sockets Layer (SSL).\" Well, there is no such chapter in the whole book. The same at the end of chapter 12, where Goodwill promises a Chapter on integrating the XML Apache Soap project into Tomcat. Again, no such Chapter.Covering the basics, the book does a good job, but as said, the provided ducumentation does it as well.  "
      ]
     },
     "execution_count": 13,
     "metadata": {},
     "output_type": "execute_result"
    }
   ],
   "source": [
    "soap.head()"
   ]
  },
  {
   "cell_type": "code",
   "execution_count": 14,
   "metadata": {
    "ExecuteTime": {
     "end_time": "2020-03-03T14:11:45.548580Z",
     "start_time": "2020-03-03T14:11:45.471209Z"
    }
   },
   "outputs": [
    {
     "data": {
      "text/html": [
       "<div>\n",
       "<style scoped>\n",
       "    .dataframe tbody tr th:only-of-type {\n",
       "        vertical-align: middle;\n",
       "    }\n",
       "\n",
       "    .dataframe tbody tr th {\n",
       "        vertical-align: top;\n",
       "    }\n",
       "\n",
       "    .dataframe thead th {\n",
       "        text-align: right;\n",
       "    }\n",
       "</style>\n",
       "<table border=\"1\" class=\"dataframe\">\n",
       "  <thead>\n",
       "    <tr style=\"text-align: right;\">\n",
       "      <th></th>\n",
       "      <th>sentiment</th>\n",
       "    </tr>\n",
       "  </thead>\n",
       "  <tbody>\n",
       "    <tr>\n",
       "      <th>count</th>\n",
       "      <td>5103.000000</td>\n",
       "    </tr>\n",
       "    <tr>\n",
       "      <th>mean</th>\n",
       "      <td>2.907505</td>\n",
       "    </tr>\n",
       "    <tr>\n",
       "      <th>std</th>\n",
       "      <td>1.407151</td>\n",
       "    </tr>\n",
       "    <tr>\n",
       "      <th>min</th>\n",
       "      <td>1.000000</td>\n",
       "    </tr>\n",
       "    <tr>\n",
       "      <th>25%</th>\n",
       "      <td>2.000000</td>\n",
       "    </tr>\n",
       "    <tr>\n",
       "      <th>50%</th>\n",
       "      <td>3.000000</td>\n",
       "    </tr>\n",
       "    <tr>\n",
       "      <th>75%</th>\n",
       "      <td>4.000000</td>\n",
       "    </tr>\n",
       "    <tr>\n",
       "      <th>max</th>\n",
       "      <td>5.000000</td>\n",
       "    </tr>\n",
       "  </tbody>\n",
       "</table>\n",
       "</div>"
      ],
      "text/plain": [
       "         sentiment\n",
       "count  5103.000000\n",
       "mean   2.907505   \n",
       "std    1.407151   \n",
       "min    1.000000   \n",
       "25%    2.000000   \n",
       "50%    3.000000   \n",
       "75%    4.000000   \n",
       "max    5.000000   "
      ]
     },
     "execution_count": 14,
     "metadata": {},
     "output_type": "execute_result"
    }
   ],
   "source": [
    "soap.describe()"
   ]
  },
  {
   "cell_type": "markdown",
   "metadata": {},
   "source": [
    "## Searching for some initial brands"
   ]
  },
  {
   "cell_type": "markdown",
   "metadata": {},
   "source": [
    "### Mrs Meyer's soap stats below"
   ]
  },
  {
   "cell_type": "code",
   "execution_count": 15,
   "metadata": {
    "ExecuteTime": {
     "end_time": "2020-03-03T14:12:31.478189Z",
     "start_time": "2020-03-03T14:11:45.556531Z"
    }
   },
   "outputs": [
    {
     "data": {
      "text/html": [
       "<div>\n",
       "<style scoped>\n",
       "    .dataframe tbody tr th:only-of-type {\n",
       "        vertical-align: middle;\n",
       "    }\n",
       "\n",
       "    .dataframe tbody tr th {\n",
       "        vertical-align: top;\n",
       "    }\n",
       "\n",
       "    .dataframe thead th {\n",
       "        text-align: right;\n",
       "    }\n",
       "</style>\n",
       "<table border=\"1\" class=\"dataframe\">\n",
       "  <thead>\n",
       "    <tr style=\"text-align: right;\">\n",
       "      <th></th>\n",
       "      <th>sentiment</th>\n",
       "    </tr>\n",
       "  </thead>\n",
       "  <tbody>\n",
       "    <tr>\n",
       "      <th>count</th>\n",
       "      <td>39.000000</td>\n",
       "    </tr>\n",
       "    <tr>\n",
       "      <th>mean</th>\n",
       "      <td>3.102564</td>\n",
       "    </tr>\n",
       "    <tr>\n",
       "      <th>std</th>\n",
       "      <td>1.569359</td>\n",
       "    </tr>\n",
       "    <tr>\n",
       "      <th>min</th>\n",
       "      <td>1.000000</td>\n",
       "    </tr>\n",
       "    <tr>\n",
       "      <th>25%</th>\n",
       "      <td>2.000000</td>\n",
       "    </tr>\n",
       "    <tr>\n",
       "      <th>50%</th>\n",
       "      <td>3.000000</td>\n",
       "    </tr>\n",
       "    <tr>\n",
       "      <th>75%</th>\n",
       "      <td>5.000000</td>\n",
       "    </tr>\n",
       "    <tr>\n",
       "      <th>max</th>\n",
       "      <td>5.000000</td>\n",
       "    </tr>\n",
       "  </tbody>\n",
       "</table>\n",
       "</div>"
      ],
      "text/plain": [
       "       sentiment\n",
       "count  39.000000\n",
       "mean   3.102564 \n",
       "std    1.569359 \n",
       "min    1.000000 \n",
       "25%    2.000000 \n",
       "50%    3.000000 \n",
       "75%    5.000000 \n",
       "max    5.000000 "
      ]
     },
     "execution_count": 15,
     "metadata": {},
     "output_type": "execute_result"
    }
   ],
   "source": [
    "amazon[amazon.review.str.contains('mrs. meyer', case=False)].describe()"
   ]
  },
  {
   "cell_type": "code",
   "execution_count": 16,
   "metadata": {
    "ExecuteTime": {
     "end_time": "2020-03-03T14:13:17.451851Z",
     "start_time": "2020-03-03T14:12:31.482579Z"
    }
   },
   "outputs": [
    {
     "data": {
      "text/html": [
       "<div>\n",
       "<style scoped>\n",
       "    .dataframe tbody tr th:only-of-type {\n",
       "        vertical-align: middle;\n",
       "    }\n",
       "\n",
       "    .dataframe tbody tr th {\n",
       "        vertical-align: top;\n",
       "    }\n",
       "\n",
       "    .dataframe thead th {\n",
       "        text-align: right;\n",
       "    }\n",
       "</style>\n",
       "<table border=\"1\" class=\"dataframe\">\n",
       "  <thead>\n",
       "    <tr style=\"text-align: right;\">\n",
       "      <th></th>\n",
       "      <th>sentiment</th>\n",
       "    </tr>\n",
       "  </thead>\n",
       "  <tbody>\n",
       "    <tr>\n",
       "      <th>count</th>\n",
       "      <td>6.000000</td>\n",
       "    </tr>\n",
       "    <tr>\n",
       "      <th>mean</th>\n",
       "      <td>2.833333</td>\n",
       "    </tr>\n",
       "    <tr>\n",
       "      <th>std</th>\n",
       "      <td>1.602082</td>\n",
       "    </tr>\n",
       "    <tr>\n",
       "      <th>min</th>\n",
       "      <td>1.000000</td>\n",
       "    </tr>\n",
       "    <tr>\n",
       "      <th>25%</th>\n",
       "      <td>1.500000</td>\n",
       "    </tr>\n",
       "    <tr>\n",
       "      <th>50%</th>\n",
       "      <td>3.000000</td>\n",
       "    </tr>\n",
       "    <tr>\n",
       "      <th>75%</th>\n",
       "      <td>3.750000</td>\n",
       "    </tr>\n",
       "    <tr>\n",
       "      <th>max</th>\n",
       "      <td>5.000000</td>\n",
       "    </tr>\n",
       "  </tbody>\n",
       "</table>\n",
       "</div>"
      ],
      "text/plain": [
       "       sentiment\n",
       "count  6.000000 \n",
       "mean   2.833333 \n",
       "std    1.602082 \n",
       "min    1.000000 \n",
       "25%    1.500000 \n",
       "50%    3.000000 \n",
       "75%    3.750000 \n",
       "max    5.000000 "
      ]
     },
     "execution_count": 16,
     "metadata": {},
     "output_type": "execute_result"
    }
   ],
   "source": [
    "amazon[amazon.review.str.contains('mrs meyer', case=False)].describe()"
   ]
  },
  {
   "cell_type": "code",
   "execution_count": 17,
   "metadata": {
    "ExecuteTime": {
     "end_time": "2020-03-03T14:13:17.600379Z",
     "start_time": "2020-03-03T14:13:17.455712Z"
    },
    "scrolled": false
   },
   "outputs": [
    {
     "data": {
      "text/html": [
       "<div>\n",
       "<style scoped>\n",
       "    .dataframe tbody tr th:only-of-type {\n",
       "        vertical-align: middle;\n",
       "    }\n",
       "\n",
       "    .dataframe tbody tr th {\n",
       "        vertical-align: top;\n",
       "    }\n",
       "\n",
       "    .dataframe thead th {\n",
       "        text-align: right;\n",
       "    }\n",
       "</style>\n",
       "<table border=\"1\" class=\"dataframe\">\n",
       "  <thead>\n",
       "    <tr style=\"text-align: right;\">\n",
       "      <th></th>\n",
       "      <th>sentiment</th>\n",
       "    </tr>\n",
       "  </thead>\n",
       "  <tbody>\n",
       "    <tr>\n",
       "      <th>count</th>\n",
       "      <td>25.000000</td>\n",
       "    </tr>\n",
       "    <tr>\n",
       "      <th>mean</th>\n",
       "      <td>2.920000</td>\n",
       "    </tr>\n",
       "    <tr>\n",
       "      <th>std</th>\n",
       "      <td>1.497776</td>\n",
       "    </tr>\n",
       "    <tr>\n",
       "      <th>min</th>\n",
       "      <td>1.000000</td>\n",
       "    </tr>\n",
       "    <tr>\n",
       "      <th>25%</th>\n",
       "      <td>1.000000</td>\n",
       "    </tr>\n",
       "    <tr>\n",
       "      <th>50%</th>\n",
       "      <td>3.000000</td>\n",
       "    </tr>\n",
       "    <tr>\n",
       "      <th>75%</th>\n",
       "      <td>4.000000</td>\n",
       "    </tr>\n",
       "    <tr>\n",
       "      <th>max</th>\n",
       "      <td>5.000000</td>\n",
       "    </tr>\n",
       "  </tbody>\n",
       "</table>\n",
       "</div>"
      ],
      "text/plain": [
       "       sentiment\n",
       "count  25.000000\n",
       "mean   2.920000 \n",
       "std    1.497776 \n",
       "min    1.000000 \n",
       "25%    1.000000 \n",
       "50%    3.000000 \n",
       "75%    4.000000 \n",
       "max    5.000000 "
      ]
     },
     "execution_count": 17,
     "metadata": {},
     "output_type": "execute_result"
    }
   ],
   "source": [
    "soap[soap.review.str.contains('meyer', case=False)].describe()\n",
    "    "
   ]
  },
  {
   "cell_type": "markdown",
   "metadata": {},
   "source": [
    "### Dove"
   ]
  },
  {
   "cell_type": "code",
   "execution_count": 18,
   "metadata": {
    "ExecuteTime": {
     "end_time": "2020-03-03T14:13:17.768189Z",
     "start_time": "2020-03-03T14:13:17.603199Z"
    }
   },
   "outputs": [
    {
     "data": {
      "text/html": [
       "<div>\n",
       "<style scoped>\n",
       "    .dataframe tbody tr th:only-of-type {\n",
       "        vertical-align: middle;\n",
       "    }\n",
       "\n",
       "    .dataframe tbody tr th {\n",
       "        vertical-align: top;\n",
       "    }\n",
       "\n",
       "    .dataframe thead th {\n",
       "        text-align: right;\n",
       "    }\n",
       "</style>\n",
       "<table border=\"1\" class=\"dataframe\">\n",
       "  <thead>\n",
       "    <tr style=\"text-align: right;\">\n",
       "      <th></th>\n",
       "      <th>sentiment</th>\n",
       "    </tr>\n",
       "  </thead>\n",
       "  <tbody>\n",
       "    <tr>\n",
       "      <th>count</th>\n",
       "      <td>36.000000</td>\n",
       "    </tr>\n",
       "    <tr>\n",
       "      <th>mean</th>\n",
       "      <td>3.138889</td>\n",
       "    </tr>\n",
       "    <tr>\n",
       "      <th>std</th>\n",
       "      <td>1.290687</td>\n",
       "    </tr>\n",
       "    <tr>\n",
       "      <th>min</th>\n",
       "      <td>1.000000</td>\n",
       "    </tr>\n",
       "    <tr>\n",
       "      <th>25%</th>\n",
       "      <td>2.000000</td>\n",
       "    </tr>\n",
       "    <tr>\n",
       "      <th>50%</th>\n",
       "      <td>3.000000</td>\n",
       "    </tr>\n",
       "    <tr>\n",
       "      <th>75%</th>\n",
       "      <td>4.000000</td>\n",
       "    </tr>\n",
       "    <tr>\n",
       "      <th>max</th>\n",
       "      <td>5.000000</td>\n",
       "    </tr>\n",
       "  </tbody>\n",
       "</table>\n",
       "</div>"
      ],
      "text/plain": [
       "       sentiment\n",
       "count  36.000000\n",
       "mean   3.138889 \n",
       "std    1.290687 \n",
       "min    1.000000 \n",
       "25%    2.000000 \n",
       "50%    3.000000 \n",
       "75%    4.000000 \n",
       "max    5.000000 "
      ]
     },
     "execution_count": 18,
     "metadata": {},
     "output_type": "execute_result"
    }
   ],
   "source": [
    "soap[soap.review.str.contains('dove', case=False)].describe()"
   ]
  },
  {
   "cell_type": "markdown",
   "metadata": {},
   "source": [
    "### Softsoap"
   ]
  },
  {
   "cell_type": "code",
   "execution_count": 19,
   "metadata": {
    "ExecuteTime": {
     "end_time": "2020-03-03T14:13:17.967684Z",
     "start_time": "2020-03-03T14:13:17.773255Z"
    }
   },
   "outputs": [
    {
     "data": {
      "text/html": [
       "<div>\n",
       "<style scoped>\n",
       "    .dataframe tbody tr th:only-of-type {\n",
       "        vertical-align: middle;\n",
       "    }\n",
       "\n",
       "    .dataframe tbody tr th {\n",
       "        vertical-align: top;\n",
       "    }\n",
       "\n",
       "    .dataframe thead th {\n",
       "        text-align: right;\n",
       "    }\n",
       "</style>\n",
       "<table border=\"1\" class=\"dataframe\">\n",
       "  <thead>\n",
       "    <tr style=\"text-align: right;\">\n",
       "      <th></th>\n",
       "      <th>sentiment</th>\n",
       "    </tr>\n",
       "  </thead>\n",
       "  <tbody>\n",
       "    <tr>\n",
       "      <th>count</th>\n",
       "      <td>11.000000</td>\n",
       "    </tr>\n",
       "    <tr>\n",
       "      <th>mean</th>\n",
       "      <td>2.818182</td>\n",
       "    </tr>\n",
       "    <tr>\n",
       "      <th>std</th>\n",
       "      <td>1.537412</td>\n",
       "    </tr>\n",
       "    <tr>\n",
       "      <th>min</th>\n",
       "      <td>1.000000</td>\n",
       "    </tr>\n",
       "    <tr>\n",
       "      <th>25%</th>\n",
       "      <td>1.500000</td>\n",
       "    </tr>\n",
       "    <tr>\n",
       "      <th>50%</th>\n",
       "      <td>3.000000</td>\n",
       "    </tr>\n",
       "    <tr>\n",
       "      <th>75%</th>\n",
       "      <td>4.000000</td>\n",
       "    </tr>\n",
       "    <tr>\n",
       "      <th>max</th>\n",
       "      <td>5.000000</td>\n",
       "    </tr>\n",
       "  </tbody>\n",
       "</table>\n",
       "</div>"
      ],
      "text/plain": [
       "       sentiment\n",
       "count  11.000000\n",
       "mean   2.818182 \n",
       "std    1.537412 \n",
       "min    1.000000 \n",
       "25%    1.500000 \n",
       "50%    3.000000 \n",
       "75%    4.000000 \n",
       "max    5.000000 "
      ]
     },
     "execution_count": 19,
     "metadata": {},
     "output_type": "execute_result"
    }
   ],
   "source": [
    "soap[soap.review.str.contains('softsoap', case=False)].describe()"
   ]
  },
  {
   "cell_type": "markdown",
   "metadata": {},
   "source": [
    "### 7th Generation"
   ]
  },
  {
   "cell_type": "code",
   "execution_count": 20,
   "metadata": {
    "ExecuteTime": {
     "end_time": "2020-03-03T14:13:18.031420Z",
     "start_time": "2020-03-03T14:13:17.967684Z"
    }
   },
   "outputs": [
    {
     "data": {
      "text/html": [
       "<div>\n",
       "<style scoped>\n",
       "    .dataframe tbody tr th:only-of-type {\n",
       "        vertical-align: middle;\n",
       "    }\n",
       "\n",
       "    .dataframe tbody tr th {\n",
       "        vertical-align: top;\n",
       "    }\n",
       "\n",
       "    .dataframe thead th {\n",
       "        text-align: right;\n",
       "    }\n",
       "</style>\n",
       "<table border=\"1\" class=\"dataframe\">\n",
       "  <thead>\n",
       "    <tr style=\"text-align: right;\">\n",
       "      <th></th>\n",
       "      <th>sentiment</th>\n",
       "    </tr>\n",
       "  </thead>\n",
       "  <tbody>\n",
       "    <tr>\n",
       "      <th>count</th>\n",
       "      <td>8.000000</td>\n",
       "    </tr>\n",
       "    <tr>\n",
       "      <th>mean</th>\n",
       "      <td>2.750000</td>\n",
       "    </tr>\n",
       "    <tr>\n",
       "      <th>std</th>\n",
       "      <td>1.581139</td>\n",
       "    </tr>\n",
       "    <tr>\n",
       "      <th>min</th>\n",
       "      <td>1.000000</td>\n",
       "    </tr>\n",
       "    <tr>\n",
       "      <th>25%</th>\n",
       "      <td>1.750000</td>\n",
       "    </tr>\n",
       "    <tr>\n",
       "      <th>50%</th>\n",
       "      <td>2.500000</td>\n",
       "    </tr>\n",
       "    <tr>\n",
       "      <th>75%</th>\n",
       "      <td>3.500000</td>\n",
       "    </tr>\n",
       "    <tr>\n",
       "      <th>max</th>\n",
       "      <td>5.000000</td>\n",
       "    </tr>\n",
       "  </tbody>\n",
       "</table>\n",
       "</div>"
      ],
      "text/plain": [
       "       sentiment\n",
       "count  8.000000 \n",
       "mean   2.750000 \n",
       "std    1.581139 \n",
       "min    1.000000 \n",
       "25%    1.750000 \n",
       "50%    2.500000 \n",
       "75%    3.500000 \n",
       "max    5.000000 "
      ]
     },
     "execution_count": 20,
     "metadata": {},
     "output_type": "execute_result"
    }
   ],
   "source": [
    "soap[soap.review.str.contains('7th', case=False)].describe()"
   ]
  },
  {
   "cell_type": "markdown",
   "metadata": {},
   "source": [
    "# vader SA experiment"
   ]
  },
  {
   "cell_type": "code",
   "execution_count": 21,
   "metadata": {
    "ExecuteTime": {
     "end_time": "2020-03-03T14:13:19.477481Z",
     "start_time": "2020-03-03T14:13:18.037060Z"
    }
   },
   "outputs": [],
   "source": [
    "amazon.dropna(inplace=True)"
   ]
  },
  {
   "cell_type": "code",
   "execution_count": 22,
   "metadata": {
    "ExecuteTime": {
     "end_time": "2020-03-03T14:13:19.502215Z",
     "start_time": "2020-03-03T14:13:19.481477Z"
    },
    "scrolled": true
   },
   "outputs": [
    {
     "data": {
      "text/html": [
       "<div>\n",
       "<style scoped>\n",
       "    .dataframe tbody tr th:only-of-type {\n",
       "        vertical-align: middle;\n",
       "    }\n",
       "\n",
       "    .dataframe tbody tr th {\n",
       "        vertical-align: top;\n",
       "    }\n",
       "\n",
       "    .dataframe thead th {\n",
       "        text-align: right;\n",
       "    }\n",
       "</style>\n",
       "<table border=\"1\" class=\"dataframe\">\n",
       "  <thead>\n",
       "    <tr style=\"text-align: right;\">\n",
       "      <th></th>\n",
       "      <th>sentiment</th>\n",
       "      <th>title</th>\n",
       "      <th>review</th>\n",
       "    </tr>\n",
       "  </thead>\n",
       "  <tbody>\n",
       "    <tr>\n",
       "      <th>0</th>\n",
       "      <td>5</td>\n",
       "      <td>Inspiring</td>\n",
       "      <td>I hope a lot of people hear this cd. We need more strong and positive vibes like this. Great vocals, fresh tunes, cross-cultural happiness. Her blues is from the gut. The pop sounds are catchy and mature.</td>\n",
       "    </tr>\n",
       "  </tbody>\n",
       "</table>\n",
       "</div>"
      ],
      "text/plain": [
       "   sentiment      title  \\\n",
       "0  5          Inspiring   \n",
       "\n",
       "                                                                                                                                                                                                         review  \n",
       "0  I hope a lot of people hear this cd. We need more strong and positive vibes like this. Great vocals, fresh tunes, cross-cultural happiness. Her blues is from the gut. The pop sounds are catchy and mature.  "
      ]
     },
     "execution_count": 22,
     "metadata": {},
     "output_type": "execute_result"
    }
   ],
   "source": [
    "amazon.head(1)"
   ]
  },
  {
   "cell_type": "markdown",
   "metadata": {},
   "source": [
    "## Lambda function to create vader sentiment columns in my amazon df"
   ]
  },
  {
   "cell_type": "code",
   "execution_count": 26,
   "metadata": {
    "ExecuteTime": {
     "end_time": "2020-03-03T14:17:26.618526Z",
     "start_time": "2020-03-03T14:17:26.578492Z"
    }
   },
   "outputs": [],
   "source": [
    "analyser = SentimentIntensityAnalyzer()"
   ]
  },
  {
   "cell_type": "code",
   "execution_count": 27,
   "metadata": {
    "ExecuteTime": {
     "end_time": "2020-03-03T16:14:30.151101Z",
     "start_time": "2020-03-03T14:17:27.268835Z"
    }
   },
   "outputs": [],
   "source": [
    "sentiment = amazon['review'].apply(lambda x: analyser.polarity_scores(x))\n",
    "amazon = pd.concat([amazon, sentiment.apply(pd.Series)], 1)"
   ]
  },
  {
   "cell_type": "markdown",
   "metadata": {},
   "source": [
    "# Comparing vader results to test scores from Amazon Sentiment Scores (y actual)"
   ]
  },
  {
   "cell_type": "code",
   "execution_count": 29,
   "metadata": {
    "ExecuteTime": {
     "end_time": "2020-03-03T16:26:13.094525Z",
     "start_time": "2020-03-03T16:26:13.047650Z"
    }
   },
   "outputs": [
    {
     "data": {
      "text/html": [
       "<div>\n",
       "<style scoped>\n",
       "    .dataframe tbody tr th:only-of-type {\n",
       "        vertical-align: middle;\n",
       "    }\n",
       "\n",
       "    .dataframe tbody tr th {\n",
       "        vertical-align: top;\n",
       "    }\n",
       "\n",
       "    .dataframe thead th {\n",
       "        text-align: right;\n",
       "    }\n",
       "</style>\n",
       "<table border=\"1\" class=\"dataframe\">\n",
       "  <thead>\n",
       "    <tr style=\"text-align: right;\">\n",
       "      <th></th>\n",
       "      <th>sentiment</th>\n",
       "      <th>title</th>\n",
       "      <th>review</th>\n",
       "      <th>neg</th>\n",
       "      <th>neu</th>\n",
       "      <th>pos</th>\n",
       "      <th>compound</th>\n",
       "      <th>vader_correct</th>\n",
       "    </tr>\n",
       "  </thead>\n",
       "  <tbody>\n",
       "    <tr>\n",
       "      <th>0</th>\n",
       "      <td>5</td>\n",
       "      <td>Inspiring</td>\n",
       "      <td>I hope a lot of people hear this cd. We need more strong and positive vibes like this. Great vocals, fresh tunes, cross-cultural happiness. Her blues is from the gut. The pop sounds are catchy and mature.</td>\n",
       "      <td>0.0</td>\n",
       "      <td>0.505</td>\n",
       "      <td>0.495</td>\n",
       "      <td>0.9786</td>\n",
       "      <td>2</td>\n",
       "    </tr>\n",
       "  </tbody>\n",
       "</table>\n",
       "</div>"
      ],
      "text/plain": [
       "   sentiment      title  \\\n",
       "0  5          Inspiring   \n",
       "\n",
       "                                                                                                                                                                                                         review  \\\n",
       "0  I hope a lot of people hear this cd. We need more strong and positive vibes like this. Great vocals, fresh tunes, cross-cultural happiness. Her blues is from the gut. The pop sounds are catchy and mature.   \n",
       "\n",
       "   neg    neu    pos  compound  vader_correct  \n",
       "0  0.0  0.505  0.495  0.9786    2              "
      ]
     },
     "execution_count": 29,
     "metadata": {},
     "output_type": "execute_result"
    }
   ],
   "source": [
    "amazon['vader_correct'] = 2\n",
    "amazon.head(1)"
   ]
  },
  {
   "cell_type": "code",
   "execution_count": 30,
   "metadata": {
    "ExecuteTime": {
     "end_time": "2020-03-03T16:26:18.580957Z",
     "start_time": "2020-03-03T16:26:18.429290Z"
    }
   },
   "outputs": [],
   "source": [
    "conditions = [\n",
    "    (amazon['sentiment'] > 3) & (amazon['compound'] >= 0.05) |\n",
    "    (amazon['sentiment'] == 3) & (amazon['compound'] < 0.05) & (amazon['compound'] > -0.05) |\n",
    "    (amazon['sentiment'] < 3) & (amazon['compound'] <= -0.05)\n",
    "]"
   ]
  },
  {
   "cell_type": "code",
   "execution_count": 31,
   "metadata": {
    "ExecuteTime": {
     "end_time": "2020-03-03T16:26:22.899804Z",
     "start_time": "2020-03-03T16:26:19.742545Z"
    },
    "scrolled": true
   },
   "outputs": [
    {
     "data": {
      "text/html": [
       "<div>\n",
       "<style scoped>\n",
       "    .dataframe tbody tr th:only-of-type {\n",
       "        vertical-align: middle;\n",
       "    }\n",
       "\n",
       "    .dataframe tbody tr th {\n",
       "        vertical-align: top;\n",
       "    }\n",
       "\n",
       "    .dataframe thead th {\n",
       "        text-align: right;\n",
       "    }\n",
       "</style>\n",
       "<table border=\"1\" class=\"dataframe\">\n",
       "  <thead>\n",
       "    <tr style=\"text-align: right;\">\n",
       "      <th></th>\n",
       "      <th>sentiment</th>\n",
       "      <th>title</th>\n",
       "      <th>review</th>\n",
       "      <th>neg</th>\n",
       "      <th>neu</th>\n",
       "      <th>pos</th>\n",
       "      <th>compound</th>\n",
       "      <th>vader_correct</th>\n",
       "    </tr>\n",
       "  </thead>\n",
       "  <tbody>\n",
       "    <tr>\n",
       "      <th>0</th>\n",
       "      <td>5</td>\n",
       "      <td>Inspiring</td>\n",
       "      <td>I hope a lot of people hear this cd. We need more strong and positive vibes like this. Great vocals, fresh tunes, cross-cultural happiness. Her blues is from the gut. The pop sounds are catchy and mature.</td>\n",
       "      <td>0.000</td>\n",
       "      <td>0.505</td>\n",
       "      <td>0.495</td>\n",
       "      <td>0.9786</td>\n",
       "      <td>2</td>\n",
       "    </tr>\n",
       "    <tr>\n",
       "      <th>1</th>\n",
       "      <td>5</td>\n",
       "      <td>The best soundtrack ever to anything.</td>\n",
       "      <td>I'm reading a lot of reviews saying that this is the best 'game soundtrack' and I figured that I'd write a review to disagree a bit. This in my opinino is Yasunori Mitsuda's ultimate masterpiece. The music is timeless and I'm been listening to it for years now and its beauty simply refuses to fade.The price tag on this is pretty staggering I must say, but if you are going to buy any cd for this much money, this is the only one that I feel would be worth every penny.</td>\n",
       "      <td>0.019</td>\n",
       "      <td>0.851</td>\n",
       "      <td>0.129</td>\n",
       "      <td>0.8481</td>\n",
       "      <td>2</td>\n",
       "    </tr>\n",
       "    <tr>\n",
       "      <th>2</th>\n",
       "      <td>4</td>\n",
       "      <td>Chrono Cross OST</td>\n",
       "      <td>The music of Yasunori Misuda is without question my close second below the great Nobuo Uematsu.Chrono Cross OST is a wonderful creation filled with rich orchestra and synthesized sounds. While ambiance is one of the music's major factors, yet at times it's very uplifting and vigorous. Some of my favourite tracks include; \"Scars Left by Time, The Girl who Stole the Stars, and Another World\".</td>\n",
       "      <td>0.000</td>\n",
       "      <td>0.816</td>\n",
       "      <td>0.184</td>\n",
       "      <td>0.9260</td>\n",
       "      <td>2</td>\n",
       "    </tr>\n",
       "    <tr>\n",
       "      <th>3</th>\n",
       "      <td>5</td>\n",
       "      <td>Too good to be true</td>\n",
       "      <td>Probably the greatest soundtrack in history! Usually it's better to have played the game first but this is so enjoyable anyway! I worked so hard getting this soundtrack and after spending [money] to get it it was really worth every penny!! Get this OST! it's amazing! The first few tracks will have you dancing around with delight (especially Scars Left by Time)!! BUY IT NOW!!</td>\n",
       "      <td>0.027</td>\n",
       "      <td>0.665</td>\n",
       "      <td>0.307</td>\n",
       "      <td>0.9766</td>\n",
       "      <td>2</td>\n",
       "    </tr>\n",
       "    <tr>\n",
       "      <th>4</th>\n",
       "      <td>5</td>\n",
       "      <td>There's a reason for the price</td>\n",
       "      <td>There's a reason this CD is so expensive, even the version that's not an import.Some of the best music ever. I could listen to every track every minute of every day. That's about all i can say.</td>\n",
       "      <td>0.000</td>\n",
       "      <td>0.887</td>\n",
       "      <td>0.113</td>\n",
       "      <td>0.6369</td>\n",
       "      <td>2</td>\n",
       "    </tr>\n",
       "    <tr>\n",
       "      <th>...</th>\n",
       "      <td>...</td>\n",
       "      <td>...</td>\n",
       "      <td>...</td>\n",
       "      <td>...</td>\n",
       "      <td>...</td>\n",
       "      <td>...</td>\n",
       "      <td>...</td>\n",
       "      <td>...</td>\n",
       "    </tr>\n",
       "    <tr>\n",
       "      <th>2999988</th>\n",
       "      <td>5</td>\n",
       "      <td>Tyler rocks!!!</td>\n",
       "      <td>This music is awsome!!!!! I first heard Tyler when I was at a Hanson concert he was the opening act. Before that I had never heard of him. His performance was amazing and so when he was done we went out to get his autograph. He was so sweet he signed the date and my name as well and was gracious enough to do it on my Hanson tour book becuase I had not been able to get anything of his yet. Anyway he is a great person and his music is absolutely awsome. I highly recomend this cd!!!!!Melinda</td>\n",
       "      <td>0.000</td>\n",
       "      <td>0.824</td>\n",
       "      <td>0.176</td>\n",
       "      <td>0.9619</td>\n",
       "      <td>2</td>\n",
       "    </tr>\n",
       "    <tr>\n",
       "      <th>2999989</th>\n",
       "      <td>5</td>\n",
       "      <td>Tyler Hilton is the best!</td>\n",
       "      <td>Tyler Hilton's EP may only have a couple songs, but all of them are sooo amazing and good. All of them are my favorites. Tyler Hilton has a really good voice. His music is pop. Def. buy this CD....i promice you wont regret it!!!!</td>\n",
       "      <td>0.000</td>\n",
       "      <td>0.641</td>\n",
       "      <td>0.359</td>\n",
       "      <td>0.9711</td>\n",
       "      <td>2</td>\n",
       "    </tr>\n",
       "    <tr>\n",
       "      <th>2999990</th>\n",
       "      <td>1</td>\n",
       "      <td>What A Slap In The Face To Masami Ueda</td>\n",
       "      <td>Do NOT buy this cd. Ever. This was probably just released as a test to see if REfans would buy anything that had \"Resident Evil/Biohazard\" on it.How dare this metamorphis guy ruin such perfect scores.Masami Ueda probably had a heart attack when he heard these awful remixes of his songs.Trance....bah.</td>\n",
       "      <td>0.172</td>\n",
       "      <td>0.764</td>\n",
       "      <td>0.064</td>\n",
       "      <td>-0.7351</td>\n",
       "      <td>2</td>\n",
       "    </tr>\n",
       "    <tr>\n",
       "      <th>2999991</th>\n",
       "      <td>2</td>\n",
       "      <td>Too simplistic</td>\n",
       "      <td>While Mr. Harrison makes some extremely valid arguments in this book , I wish he had also explored why the Anglo-protestant culture , which he holds up as\"best in class\" went about enslaving the world and what impact this has had on various countries , whom they enslaved.Perhaps some of the progress those Anglo-protestant societies have made, is due to the fact that they exploited other countries and other peoples and not so much their work ethic as Mr. Harrison seems to suggest</td>\n",
       "      <td>0.069</td>\n",
       "      <td>0.867</td>\n",
       "      <td>0.064</td>\n",
       "      <td>-0.1226</td>\n",
       "      <td>2</td>\n",
       "    </tr>\n",
       "    <tr>\n",
       "      <th>2999992</th>\n",
       "      <td>5</td>\n",
       "      <td>My favorite for 30 years</td>\n",
       "      <td>I had the amazing good fortune to be acquainted with Bob, and Gary, and Doug, when they were playing lounges in Des Moines. Many a night I sat and nursed a beer, and laughed and cried to their music. He writes some of his songs, but when he does Lightfoot or Guy Clark, or whoever, I almost always like his version better. I wore out the album, and the first CD, and still listen to him almost every day. And he still makes me laugh and cry. He's gone now, but he lives on in mellow tones, and silly giggles. Sometimes I can even hear myself in the background singing along, or laughing. He's been my favorite music since the first time I heard him 30 some years ago. You won't be sorry.</td>\n",
       "      <td>0.040</td>\n",
       "      <td>0.744</td>\n",
       "      <td>0.216</td>\n",
       "      <td>0.9731</td>\n",
       "      <td>2</td>\n",
       "    </tr>\n",
       "  </tbody>\n",
       "</table>\n",
       "<p>1611263 rows × 8 columns</p>\n",
       "</div>"
      ],
      "text/plain": [
       "         sentiment                                   title  \\\n",
       "0        5          Inspiring                                \n",
       "1        5          The best soundtrack ever to anything.    \n",
       "2        4          Chrono Cross OST                         \n",
       "3        5          Too good to be true                      \n",
       "4        5          There's a reason for the price           \n",
       "...     ..                                     ...           \n",
       "2999988  5          Tyler rocks!!!                           \n",
       "2999989  5          Tyler Hilton is the best!                \n",
       "2999990  1          What A Slap In The Face To Masami Ueda   \n",
       "2999991  2          Too simplistic                           \n",
       "2999992  5          My favorite for 30 years                 \n",
       "\n",
       "                                                                                                                                                                                                                                                                                                                                                                                                                                                                                                                                                                                                                                                                                                                  review  \\\n",
       "0        I hope a lot of people hear this cd. We need more strong and positive vibes like this. Great vocals, fresh tunes, cross-cultural happiness. Her blues is from the gut. The pop sounds are catchy and mature.                                                                                                                                                                                                                                                                                                                                                                                                                                                                                                      \n",
       "1        I'm reading a lot of reviews saying that this is the best 'game soundtrack' and I figured that I'd write a review to disagree a bit. This in my opinino is Yasunori Mitsuda's ultimate masterpiece. The music is timeless and I'm been listening to it for years now and its beauty simply refuses to fade.The price tag on this is pretty staggering I must say, but if you are going to buy any cd for this much money, this is the only one that I feel would be worth every penny.                                                                                                                                                                                                                            \n",
       "2        The music of Yasunori Misuda is without question my close second below the great Nobuo Uematsu.Chrono Cross OST is a wonderful creation filled with rich orchestra and synthesized sounds. While ambiance is one of the music's major factors, yet at times it's very uplifting and vigorous. Some of my favourite tracks include; \"Scars Left by Time, The Girl who Stole the Stars, and Another World\".                                                                                                                                                                                                                                                                                                         \n",
       "3        Probably the greatest soundtrack in history! Usually it's better to have played the game first but this is so enjoyable anyway! I worked so hard getting this soundtrack and after spending [money] to get it it was really worth every penny!! Get this OST! it's amazing! The first few tracks will have you dancing around with delight (especially Scars Left by Time)!! BUY IT NOW!!                                                                                                                                                                                                                                                                                                                         \n",
       "4        There's a reason this CD is so expensive, even the version that's not an import.Some of the best music ever. I could listen to every track every minute of every day. That's about all i can say.                                                                                                                                                                                                                                                                                                                                                                                                                                                                                                                 \n",
       "...                                                                                                                                                                                                    ...                                                                                                                                                                                                                                                                                                                                                                                                                                                                                                                 \n",
       "2999988  This music is awsome!!!!! I first heard Tyler when I was at a Hanson concert he was the opening act. Before that I had never heard of him. His performance was amazing and so when he was done we went out to get his autograph. He was so sweet he signed the date and my name as well and was gracious enough to do it on my Hanson tour book becuase I had not been able to get anything of his yet. Anyway he is a great person and his music is absolutely awsome. I highly recomend this cd!!!!!Melinda                                                                                                                                                                                                     \n",
       "2999989  Tyler Hilton's EP may only have a couple songs, but all of them are sooo amazing and good. All of them are my favorites. Tyler Hilton has a really good voice. His music is pop. Def. buy this CD....i promice you wont regret it!!!!                                                                                                                                                                                                                                                                                                                                                                                                                                                                             \n",
       "2999990  Do NOT buy this cd. Ever. This was probably just released as a test to see if REfans would buy anything that had \"Resident Evil/Biohazard\" on it.How dare this metamorphis guy ruin such perfect scores.Masami Ueda probably had a heart attack when he heard these awful remixes of his songs.Trance....bah.                                                                                                                                                                                                                                                                                                                                                                                                     \n",
       "2999991  While Mr. Harrison makes some extremely valid arguments in this book , I wish he had also explored why the Anglo-protestant culture , which he holds up as\"best in class\" went about enslaving the world and what impact this has had on various countries , whom they enslaved.Perhaps some of the progress those Anglo-protestant societies have made, is due to the fact that they exploited other countries and other peoples and not so much their work ethic as Mr. Harrison seems to suggest                                                                                                                                                                                                               \n",
       "2999992  I had the amazing good fortune to be acquainted with Bob, and Gary, and Doug, when they were playing lounges in Des Moines. Many a night I sat and nursed a beer, and laughed and cried to their music. He writes some of his songs, but when he does Lightfoot or Guy Clark, or whoever, I almost always like his version better. I wore out the album, and the first CD, and still listen to him almost every day. And he still makes me laugh and cry. He's gone now, but he lives on in mellow tones, and silly giggles. Sometimes I can even hear myself in the background singing along, or laughing. He's been my favorite music since the first time I heard him 30 some years ago. You won't be sorry.   \n",
       "\n",
       "           neg    neu    pos  compound  vader_correct  \n",
       "0        0.000  0.505  0.495  0.9786    2              \n",
       "1        0.019  0.851  0.129  0.8481    2              \n",
       "2        0.000  0.816  0.184  0.9260    2              \n",
       "3        0.027  0.665  0.307  0.9766    2              \n",
       "4        0.000  0.887  0.113  0.6369    2              \n",
       "...        ...    ...    ...     ...   ..              \n",
       "2999988  0.000  0.824  0.176  0.9619    2              \n",
       "2999989  0.000  0.641  0.359  0.9711    2              \n",
       "2999990  0.172  0.764  0.064 -0.7351    2              \n",
       "2999991  0.069  0.867  0.064 -0.1226    2              \n",
       "2999992  0.040  0.744  0.216  0.9731    2              \n",
       "\n",
       "[1611263 rows x 8 columns]"
      ]
     },
     "execution_count": 31,
     "metadata": {},
     "output_type": "execute_result"
    }
   ],
   "source": [
    "amazon[conditions[0]]"
   ]
  },
  {
   "cell_type": "code",
   "execution_count": 32,
   "metadata": {
    "ExecuteTime": {
     "end_time": "2020-03-03T16:26:24.685803Z",
     "start_time": "2020-03-03T16:26:24.506540Z"
    }
   },
   "outputs": [
    {
     "data": {
      "text/html": [
       "<div>\n",
       "<style scoped>\n",
       "    .dataframe tbody tr th:only-of-type {\n",
       "        vertical-align: middle;\n",
       "    }\n",
       "\n",
       "    .dataframe tbody tr th {\n",
       "        vertical-align: top;\n",
       "    }\n",
       "\n",
       "    .dataframe thead th {\n",
       "        text-align: right;\n",
       "    }\n",
       "</style>\n",
       "<table border=\"1\" class=\"dataframe\">\n",
       "  <thead>\n",
       "    <tr style=\"text-align: right;\">\n",
       "      <th></th>\n",
       "      <th>sentiment</th>\n",
       "      <th>title</th>\n",
       "      <th>review</th>\n",
       "      <th>neg</th>\n",
       "      <th>neu</th>\n",
       "      <th>pos</th>\n",
       "      <th>compound</th>\n",
       "      <th>vader_correct</th>\n",
       "    </tr>\n",
       "  </thead>\n",
       "  <tbody>\n",
       "    <tr>\n",
       "      <th>0</th>\n",
       "      <td>5</td>\n",
       "      <td>Inspiring</td>\n",
       "      <td>I hope a lot of people hear this cd. We need more strong and positive vibes like this. Great vocals, fresh tunes, cross-cultural happiness. Her blues is from the gut. The pop sounds are catchy and mature.</td>\n",
       "      <td>0.000</td>\n",
       "      <td>0.505</td>\n",
       "      <td>0.495</td>\n",
       "      <td>0.9786</td>\n",
       "      <td>1</td>\n",
       "    </tr>\n",
       "    <tr>\n",
       "      <th>1</th>\n",
       "      <td>5</td>\n",
       "      <td>The best soundtrack ever to anything.</td>\n",
       "      <td>I'm reading a lot of reviews saying that this is the best 'game soundtrack' and I figured that I'd write a review to disagree a bit. This in my opinino is Yasunori Mitsuda's ultimate masterpiece. The music is timeless and I'm been listening to it for years now and its beauty simply refuses to fade.The price tag on this is pretty staggering I must say, but if you are going to buy any cd for this much money, this is the only one that I feel would be worth every penny.</td>\n",
       "      <td>0.019</td>\n",
       "      <td>0.851</td>\n",
       "      <td>0.129</td>\n",
       "      <td>0.8481</td>\n",
       "      <td>1</td>\n",
       "    </tr>\n",
       "    <tr>\n",
       "      <th>2</th>\n",
       "      <td>4</td>\n",
       "      <td>Chrono Cross OST</td>\n",
       "      <td>The music of Yasunori Misuda is without question my close second below the great Nobuo Uematsu.Chrono Cross OST is a wonderful creation filled with rich orchestra and synthesized sounds. While ambiance is one of the music's major factors, yet at times it's very uplifting and vigorous. Some of my favourite tracks include; \"Scars Left by Time, The Girl who Stole the Stars, and Another World\".</td>\n",
       "      <td>0.000</td>\n",
       "      <td>0.816</td>\n",
       "      <td>0.184</td>\n",
       "      <td>0.9260</td>\n",
       "      <td>1</td>\n",
       "    </tr>\n",
       "    <tr>\n",
       "      <th>3</th>\n",
       "      <td>5</td>\n",
       "      <td>Too good to be true</td>\n",
       "      <td>Probably the greatest soundtrack in history! Usually it's better to have played the game first but this is so enjoyable anyway! I worked so hard getting this soundtrack and after spending [money] to get it it was really worth every penny!! Get this OST! it's amazing! The first few tracks will have you dancing around with delight (especially Scars Left by Time)!! BUY IT NOW!!</td>\n",
       "      <td>0.027</td>\n",
       "      <td>0.665</td>\n",
       "      <td>0.307</td>\n",
       "      <td>0.9766</td>\n",
       "      <td>1</td>\n",
       "    </tr>\n",
       "    <tr>\n",
       "      <th>4</th>\n",
       "      <td>5</td>\n",
       "      <td>There's a reason for the price</td>\n",
       "      <td>There's a reason this CD is so expensive, even the version that's not an import.Some of the best music ever. I could listen to every track every minute of every day. That's about all i can say.</td>\n",
       "      <td>0.000</td>\n",
       "      <td>0.887</td>\n",
       "      <td>0.113</td>\n",
       "      <td>0.6369</td>\n",
       "      <td>1</td>\n",
       "    </tr>\n",
       "  </tbody>\n",
       "</table>\n",
       "</div>"
      ],
      "text/plain": [
       "   sentiment                                  title  \\\n",
       "0  5          Inspiring                               \n",
       "1  5          The best soundtrack ever to anything.   \n",
       "2  4          Chrono Cross OST                        \n",
       "3  5          Too good to be true                     \n",
       "4  5          There's a reason for the price          \n",
       "\n",
       "                                                                                                                                                                                                                                                                                                                                                                                                                                                                                   review  \\\n",
       "0  I hope a lot of people hear this cd. We need more strong and positive vibes like this. Great vocals, fresh tunes, cross-cultural happiness. Her blues is from the gut. The pop sounds are catchy and mature.                                                                                                                                                                                                                                                                             \n",
       "1  I'm reading a lot of reviews saying that this is the best 'game soundtrack' and I figured that I'd write a review to disagree a bit. This in my opinino is Yasunori Mitsuda's ultimate masterpiece. The music is timeless and I'm been listening to it for years now and its beauty simply refuses to fade.The price tag on this is pretty staggering I must say, but if you are going to buy any cd for this much money, this is the only one that I feel would be worth every penny.   \n",
       "2  The music of Yasunori Misuda is without question my close second below the great Nobuo Uematsu.Chrono Cross OST is a wonderful creation filled with rich orchestra and synthesized sounds. While ambiance is one of the music's major factors, yet at times it's very uplifting and vigorous. Some of my favourite tracks include; \"Scars Left by Time, The Girl who Stole the Stars, and Another World\".                                                                                \n",
       "3  Probably the greatest soundtrack in history! Usually it's better to have played the game first but this is so enjoyable anyway! I worked so hard getting this soundtrack and after spending [money] to get it it was really worth every penny!! Get this OST! it's amazing! The first few tracks will have you dancing around with delight (especially Scars Left by Time)!! BUY IT NOW!!                                                                                                \n",
       "4  There's a reason this CD is so expensive, even the version that's not an import.Some of the best music ever. I could listen to every track every minute of every day. That's about all i can say.                                                                                                                                                                                                                                                                                        \n",
       "\n",
       "     neg    neu    pos  compound  vader_correct  \n",
       "0  0.000  0.505  0.495  0.9786    1              \n",
       "1  0.019  0.851  0.129  0.8481    1              \n",
       "2  0.000  0.816  0.184  0.9260    1              \n",
       "3  0.027  0.665  0.307  0.9766    1              \n",
       "4  0.000  0.887  0.113  0.6369    1              "
      ]
     },
     "execution_count": 32,
     "metadata": {},
     "output_type": "execute_result"
    }
   ],
   "source": [
    "amazon.loc[conditions[0], 'vader_correct'] = 1\n",
    "amazon.head()"
   ]
  },
  {
   "cell_type": "code",
   "execution_count": 33,
   "metadata": {
    "ExecuteTime": {
     "end_time": "2020-03-03T16:26:44.353845Z",
     "start_time": "2020-03-03T16:26:44.218213Z"
    }
   },
   "outputs": [],
   "source": [
    "amazon.loc[~conditions[0], 'vader_correct'] = 0"
   ]
  },
  {
   "cell_type": "code",
   "execution_count": 34,
   "metadata": {
    "ExecuteTime": {
     "end_time": "2020-03-03T16:26:50.297971Z",
     "start_time": "2020-03-03T16:26:50.270013Z"
    },
    "scrolled": false
   },
   "outputs": [
    {
     "data": {
      "text/html": [
       "<div>\n",
       "<style scoped>\n",
       "    .dataframe tbody tr th:only-of-type {\n",
       "        vertical-align: middle;\n",
       "    }\n",
       "\n",
       "    .dataframe tbody tr th {\n",
       "        vertical-align: top;\n",
       "    }\n",
       "\n",
       "    .dataframe thead th {\n",
       "        text-align: right;\n",
       "    }\n",
       "</style>\n",
       "<table border=\"1\" class=\"dataframe\">\n",
       "  <thead>\n",
       "    <tr style=\"text-align: right;\">\n",
       "      <th></th>\n",
       "      <th>sentiment</th>\n",
       "      <th>title</th>\n",
       "      <th>review</th>\n",
       "      <th>neg</th>\n",
       "      <th>neu</th>\n",
       "      <th>pos</th>\n",
       "      <th>compound</th>\n",
       "      <th>vader_correct</th>\n",
       "    </tr>\n",
       "  </thead>\n",
       "  <tbody>\n",
       "    <tr>\n",
       "      <th>0</th>\n",
       "      <td>5</td>\n",
       "      <td>Inspiring</td>\n",
       "      <td>I hope a lot of people hear this cd. We need more strong and positive vibes like this. Great vocals, fresh tunes, cross-cultural happiness. Her blues is from the gut. The pop sounds are catchy and mature.</td>\n",
       "      <td>0.000</td>\n",
       "      <td>0.505</td>\n",
       "      <td>0.495</td>\n",
       "      <td>0.9786</td>\n",
       "      <td>1</td>\n",
       "    </tr>\n",
       "    <tr>\n",
       "      <th>1</th>\n",
       "      <td>5</td>\n",
       "      <td>The best soundtrack ever to anything.</td>\n",
       "      <td>I'm reading a lot of reviews saying that this is the best 'game soundtrack' and I figured that I'd write a review to disagree a bit. This in my opinino is Yasunori Mitsuda's ultimate masterpiece. The music is timeless and I'm been listening to it for years now and its beauty simply refuses to fade.The price tag on this is pretty staggering I must say, but if you are going to buy any cd for this much money, this is the only one that I feel would be worth every penny.</td>\n",
       "      <td>0.019</td>\n",
       "      <td>0.851</td>\n",
       "      <td>0.129</td>\n",
       "      <td>0.8481</td>\n",
       "      <td>1</td>\n",
       "    </tr>\n",
       "    <tr>\n",
       "      <th>2</th>\n",
       "      <td>4</td>\n",
       "      <td>Chrono Cross OST</td>\n",
       "      <td>The music of Yasunori Misuda is without question my close second below the great Nobuo Uematsu.Chrono Cross OST is a wonderful creation filled with rich orchestra and synthesized sounds. While ambiance is one of the music's major factors, yet at times it's very uplifting and vigorous. Some of my favourite tracks include; \"Scars Left by Time, The Girl who Stole the Stars, and Another World\".</td>\n",
       "      <td>0.000</td>\n",
       "      <td>0.816</td>\n",
       "      <td>0.184</td>\n",
       "      <td>0.9260</td>\n",
       "      <td>1</td>\n",
       "    </tr>\n",
       "    <tr>\n",
       "      <th>3</th>\n",
       "      <td>5</td>\n",
       "      <td>Too good to be true</td>\n",
       "      <td>Probably the greatest soundtrack in history! Usually it's better to have played the game first but this is so enjoyable anyway! I worked so hard getting this soundtrack and after spending [money] to get it it was really worth every penny!! Get this OST! it's amazing! The first few tracks will have you dancing around with delight (especially Scars Left by Time)!! BUY IT NOW!!</td>\n",
       "      <td>0.027</td>\n",
       "      <td>0.665</td>\n",
       "      <td>0.307</td>\n",
       "      <td>0.9766</td>\n",
       "      <td>1</td>\n",
       "    </tr>\n",
       "    <tr>\n",
       "      <th>4</th>\n",
       "      <td>5</td>\n",
       "      <td>There's a reason for the price</td>\n",
       "      <td>There's a reason this CD is so expensive, even the version that's not an import.Some of the best music ever. I could listen to every track every minute of every day. That's about all i can say.</td>\n",
       "      <td>0.000</td>\n",
       "      <td>0.887</td>\n",
       "      <td>0.113</td>\n",
       "      <td>0.6369</td>\n",
       "      <td>1</td>\n",
       "    </tr>\n",
       "    <tr>\n",
       "      <th>...</th>\n",
       "      <td>...</td>\n",
       "      <td>...</td>\n",
       "      <td>...</td>\n",
       "      <td>...</td>\n",
       "      <td>...</td>\n",
       "      <td>...</td>\n",
       "      <td>...</td>\n",
       "      <td>...</td>\n",
       "    </tr>\n",
       "    <tr>\n",
       "      <th>2999994</th>\n",
       "      <td>1</td>\n",
       "      <td>Don't do it!!</td>\n",
       "      <td>The high chair looks great when it first comes out of the box but it is all down hill after that. It is impossible to keep clean. The finish is flaking off, after less than 6 months of use. It is not worth the struggle to keep up. If you already have it, call the customer service number and order a second chair pad. It is only $12 and does help to be able to switch out when one is in the wash.</td>\n",
       "      <td>0.022</td>\n",
       "      <td>0.828</td>\n",
       "      <td>0.150</td>\n",
       "      <td>0.8896</td>\n",
       "      <td>0</td>\n",
       "    </tr>\n",
       "    <tr>\n",
       "      <th>2999995</th>\n",
       "      <td>2</td>\n",
       "      <td>Looks nice, low functionality</td>\n",
       "      <td>I have used this highchair for 2 kids now and finally decided to sell it because I did not like it. It's a beautiful chair and looks great in the kitchen. It's much nicer looking than the 'plastic' ones you see. What I don't like about this chair is the day-to-day functionality of it. It does not adjust, at all. As the baby gets older, I want a chair that tilts, adjusts, etc-- and this does not do that. Also, it is very heavy and hard to move; it does not slide on the floor well at all. The seatbelt is clumsy and a pain to put through the fabric cover when you take the cover on or off for cleaning. After being used multiple times, the velcro that fastens the fabric cover down will no longer stick so every time you lift your child out of the highchair, the cover comes with them. I found myself very frustrated with this chair.I would not recommend this chair to anyone. I do think it's pretty though if you are going strictly by looks!</td>\n",
       "      <td>0.089</td>\n",
       "      <td>0.820</td>\n",
       "      <td>0.092</td>\n",
       "      <td>0.3829</td>\n",
       "      <td>0</td>\n",
       "    </tr>\n",
       "    <tr>\n",
       "      <th>2999996</th>\n",
       "      <td>2</td>\n",
       "      <td>compact, but hard to clean</td>\n",
       "      <td>We have a small house, and really wanted two of these high chairs for our twins. Space-wize, they are great; they have a small footprint and look nice along side the rest of our furniture.The 2nd tray and the slide-out cup holders are a great addition to this high chair. The shelf under the seat is a great place to store bibs.The downside of the Eddie Bauer high chair is that its difficult to clean. I have toddler twins, I don't have a lot of time to spend cleaning their high chairs with a toothbrush! The slats on the side of the seat are close together and food gets slopped in between them at every meal. If you don't throughly clean this up after each meal, it dries and is difficult to get clean.Another downside is my kids never really fit well into these highchairs. They were always too short for the tray, and the tray was always too far away as opposed to other highchairs. This helped create even more food mess!</td>\n",
       "      <td>0.085</td>\n",
       "      <td>0.793</td>\n",
       "      <td>0.122</td>\n",
       "      <td>0.8767</td>\n",
       "      <td>0</td>\n",
       "    </tr>\n",
       "    <tr>\n",
       "      <th>2999997</th>\n",
       "      <td>3</td>\n",
       "      <td>Hard to clean!</td>\n",
       "      <td>I agree with everyone else who says this chair is hard to clean. I bought the lighter colored wood chair, which really makes the grime build up noticeable, especially on the foot rest. We clean the high chair all the time, but the wood almost has an absorbency about it and there's just so much you're able to get clean. And I'm not sure why some areas that have been cleaned have a sticky feeling to them except that maybe it's a reaction of the wood to the chemicals in disinfectant wipes. It looks nice, but I wish I had gone with a plastic, easier to clean high chair.</td>\n",
       "      <td>0.046</td>\n",
       "      <td>0.745</td>\n",
       "      <td>0.209</td>\n",
       "      <td>0.9624</td>\n",
       "      <td>0</td>\n",
       "    </tr>\n",
       "    <tr>\n",
       "      <th>2999998</th>\n",
       "      <td>1</td>\n",
       "      <td>what is it saying?</td>\n",
       "      <td>not sure what this book is supposed to be. It is really just a rehash of very old ideas about Carroll with some pop culture uncomfortably tacked on. The 'myth' has been dealt with far better by people who really seem to understand it (it's too deep I think for Brooker's milieu), and the pop culture is presented without any kind of analysis or penetration.I think you are better off with Leach's 'In the Shadow of the Dreamchild' or Sigler's 'Alternative Alices'.</td>\n",
       "      <td>0.054</td>\n",
       "      <td>0.879</td>\n",
       "      <td>0.067</td>\n",
       "      <td>0.2819</td>\n",
       "      <td>0</td>\n",
       "    </tr>\n",
       "  </tbody>\n",
       "</table>\n",
       "<p>2999923 rows × 8 columns</p>\n",
       "</div>"
      ],
      "text/plain": [
       "         sentiment                                  title  \\\n",
       "0        5          Inspiring                               \n",
       "1        5          The best soundtrack ever to anything.   \n",
       "2        4          Chrono Cross OST                        \n",
       "3        5          Too good to be true                     \n",
       "4        5          There's a reason for the price          \n",
       "...     ..                                     ...          \n",
       "2999994  1          Don't do it!!                           \n",
       "2999995  2          Looks nice, low functionality           \n",
       "2999996  2          compact, but hard to clean              \n",
       "2999997  3          Hard to clean!                          \n",
       "2999998  1          what is it saying?                      \n",
       "\n",
       "                                                                                                                                                                                                                                                                                                                                                                                                                                                                                                                                                                                                                                                                                                                                                                                                                                                                                                                                                                                    review  \\\n",
       "0        I hope a lot of people hear this cd. We need more strong and positive vibes like this. Great vocals, fresh tunes, cross-cultural happiness. Her blues is from the gut. The pop sounds are catchy and mature.                                                                                                                                                                                                                                                                                                                                                                                                                                                                                                                                                                                                                                                                                                                                                                        \n",
       "1        I'm reading a lot of reviews saying that this is the best 'game soundtrack' and I figured that I'd write a review to disagree a bit. This in my opinino is Yasunori Mitsuda's ultimate masterpiece. The music is timeless and I'm been listening to it for years now and its beauty simply refuses to fade.The price tag on this is pretty staggering I must say, but if you are going to buy any cd for this much money, this is the only one that I feel would be worth every penny.                                                                                                                                                                                                                                                                                                                                                                                                                                                                                              \n",
       "2        The music of Yasunori Misuda is without question my close second below the great Nobuo Uematsu.Chrono Cross OST is a wonderful creation filled with rich orchestra and synthesized sounds. While ambiance is one of the music's major factors, yet at times it's very uplifting and vigorous. Some of my favourite tracks include; \"Scars Left by Time, The Girl who Stole the Stars, and Another World\".                                                                                                                                                                                                                                                                                                                                                                                                                                                                                                                                                                           \n",
       "3        Probably the greatest soundtrack in history! Usually it's better to have played the game first but this is so enjoyable anyway! I worked so hard getting this soundtrack and after spending [money] to get it it was really worth every penny!! Get this OST! it's amazing! The first few tracks will have you dancing around with delight (especially Scars Left by Time)!! BUY IT NOW!!                                                                                                                                                                                                                                                                                                                                                                                                                                                                                                                                                                                           \n",
       "4        There's a reason this CD is so expensive, even the version that's not an import.Some of the best music ever. I could listen to every track every minute of every day. That's about all i can say.                                                                                                                                                                                                                                                                                                                                                                                                                                                                                                                                                                                                                                                                                                                                                                                   \n",
       "...                                                                                                                                                                                                    ...                                                                                                                                                                                                                                                                                                                                                                                                                                                                                                                                                                                                                                                                                                                                                                                   \n",
       "2999994  The high chair looks great when it first comes out of the box but it is all down hill after that. It is impossible to keep clean. The finish is flaking off, after less than 6 months of use. It is not worth the struggle to keep up. If you already have it, call the customer service number and order a second chair pad. It is only $12 and does help to be able to switch out when one is in the wash.                                                                                                                                                                                                                                                                                                                                                                                                                                                                                                                                                                        \n",
       "2999995  I have used this highchair for 2 kids now and finally decided to sell it because I did not like it. It's a beautiful chair and looks great in the kitchen. It's much nicer looking than the 'plastic' ones you see. What I don't like about this chair is the day-to-day functionality of it. It does not adjust, at all. As the baby gets older, I want a chair that tilts, adjusts, etc-- and this does not do that. Also, it is very heavy and hard to move; it does not slide on the floor well at all. The seatbelt is clumsy and a pain to put through the fabric cover when you take the cover on or off for cleaning. After being used multiple times, the velcro that fastens the fabric cover down will no longer stick so every time you lift your child out of the highchair, the cover comes with them. I found myself very frustrated with this chair.I would not recommend this chair to anyone. I do think it's pretty though if you are going strictly by looks!   \n",
       "2999996  We have a small house, and really wanted two of these high chairs for our twins. Space-wize, they are great; they have a small footprint and look nice along side the rest of our furniture.The 2nd tray and the slide-out cup holders are a great addition to this high chair. The shelf under the seat is a great place to store bibs.The downside of the Eddie Bauer high chair is that its difficult to clean. I have toddler twins, I don't have a lot of time to spend cleaning their high chairs with a toothbrush! The slats on the side of the seat are close together and food gets slopped in between them at every meal. If you don't throughly clean this up after each meal, it dries and is difficult to get clean.Another downside is my kids never really fit well into these highchairs. They were always too short for the tray, and the tray was always too far away as opposed to other highchairs. This helped create even more food mess!                    \n",
       "2999997  I agree with everyone else who says this chair is hard to clean. I bought the lighter colored wood chair, which really makes the grime build up noticeable, especially on the foot rest. We clean the high chair all the time, but the wood almost has an absorbency about it and there's just so much you're able to get clean. And I'm not sure why some areas that have been cleaned have a sticky feeling to them except that maybe it's a reaction of the wood to the chemicals in disinfectant wipes. It looks nice, but I wish I had gone with a plastic, easier to clean high chair.                                                                                                                                                                                                                                                                                                                                                                                        \n",
       "2999998  not sure what this book is supposed to be. It is really just a rehash of very old ideas about Carroll with some pop culture uncomfortably tacked on. The 'myth' has been dealt with far better by people who really seem to understand it (it's too deep I think for Brooker's milieu), and the pop culture is presented without any kind of analysis or penetration.I think you are better off with Leach's 'In the Shadow of the Dreamchild' or Sigler's 'Alternative Alices'.                                                                                                                                                                                                                                                                                                                                                                                                                                                                                                    \n",
       "\n",
       "           neg    neu    pos  compound  vader_correct  \n",
       "0        0.000  0.505  0.495  0.9786    1              \n",
       "1        0.019  0.851  0.129  0.8481    1              \n",
       "2        0.000  0.816  0.184  0.9260    1              \n",
       "3        0.027  0.665  0.307  0.9766    1              \n",
       "4        0.000  0.887  0.113  0.6369    1              \n",
       "...        ...    ...    ...     ...   ..              \n",
       "2999994  0.022  0.828  0.150  0.8896    0              \n",
       "2999995  0.089  0.820  0.092  0.3829    0              \n",
       "2999996  0.085  0.793  0.122  0.8767    0              \n",
       "2999997  0.046  0.745  0.209  0.9624    0              \n",
       "2999998  0.054  0.879  0.067  0.2819    0              \n",
       "\n",
       "[2999923 rows x 8 columns]"
      ]
     },
     "execution_count": 34,
     "metadata": {},
     "output_type": "execute_result"
    }
   ],
   "source": [
    "amazon"
   ]
  },
  {
   "cell_type": "code",
   "execution_count": 35,
   "metadata": {
    "ExecuteTime": {
     "end_time": "2020-03-03T16:27:31.440007Z",
     "start_time": "2020-03-03T16:27:31.332302Z"
    }
   },
   "outputs": [
    {
     "data": {
      "text/plain": [
       "1    0.537101\n",
       "0    0.462899\n",
       "Name: vader_correct, dtype: float64"
      ]
     },
     "execution_count": 35,
     "metadata": {},
     "output_type": "execute_result"
    }
   ],
   "source": [
    "amazon.vader_correct.value_counts(normalize=1)"
   ]
  },
  {
   "cell_type": "code",
   "execution_count": 38,
   "metadata": {
    "ExecuteTime": {
     "end_time": "2020-03-03T16:31:30.918088Z",
     "start_time": "2020-03-03T16:31:30.825163Z"
    }
   },
   "outputs": [
    {
     "data": {
      "text/plain": [
       "sentiment\n",
       "1   -0.028551\n",
       "2    0.190786\n",
       "3    0.418094\n",
       "4    0.633814\n",
       "5    0.711505\n",
       "Name: compound, dtype: float64"
      ]
     },
     "execution_count": 38,
     "metadata": {},
     "output_type": "execute_result"
    }
   ],
   "source": [
    "amazon.groupby(['sentiment'])['compound'].mean()"
   ]
  },
  {
   "cell_type": "markdown",
   "metadata": {},
   "source": [
    "# Exporting vaderized amazon reviews to csv"
   ]
  },
  {
   "cell_type": "code",
   "execution_count": 39,
   "metadata": {
    "ExecuteTime": {
     "end_time": "2020-03-03T18:04:12.135660Z",
     "start_time": "2020-03-03T18:03:21.252509Z"
    }
   },
   "outputs": [],
   "source": [
    "#amazon.to_csv('./datasets/training_data/amazon_reviews/vader_amazon.csv')"
   ]
  },
  {
   "cell_type": "code",
   "execution_count": null,
   "metadata": {},
   "outputs": [],
   "source": []
  }
 ],
 "metadata": {
  "kernelspec": {
   "display_name": "Python 3",
   "language": "python",
   "name": "python3"
  },
  "language_info": {
   "codemirror_mode": {
    "name": "ipython",
    "version": 3
   },
   "file_extension": ".py",
   "mimetype": "text/x-python",
   "name": "python",
   "nbconvert_exporter": "python",
   "pygments_lexer": "ipython3",
   "version": "3.7.6"
  },
  "toc": {
   "base_numbering": 1,
   "nav_menu": {},
   "number_sections": true,
   "sideBar": true,
   "skip_h1_title": false,
   "title_cell": "Table of Contents",
   "title_sidebar": "Contents",
   "toc_cell": false,
   "toc_position": {},
   "toc_section_display": true,
   "toc_window_display": false
  }
 },
 "nbformat": 4,
 "nbformat_minor": 2
}
